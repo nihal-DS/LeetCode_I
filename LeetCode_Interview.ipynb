{
 "cells": [
  {
   "cell_type": "markdown",
   "id": "4dd053cc-bce6-458b-adb7-2ee68550e021",
   "metadata": {},
   "source": [
    "# Top Interview 150"
   ]
  },
  {
   "cell_type": "markdown",
   "id": "29a3cff0-e83d-4845-911b-8712e4c88b42",
   "metadata": {},
   "source": [
    "## 1. Array / String"
   ]
  },
  {
   "cell_type": "markdown",
   "id": "82e8b078-1775-43cb-8668-ae9c861c1d99",
   "metadata": {},
   "source": [
    "### 88. Merge Sorted Array"
   ]
  },
  {
   "cell_type": "code",
   "execution_count": 15,
   "id": "3c5cfbf7-92aa-4db2-95a4-9dc366827fe9",
   "metadata": {
    "tags": []
   },
   "outputs": [],
   "source": [
    "# Notes: Solve in the reverse order, use 3 pointers m = for array1, n = for array2 and x to replace elements in each loop,\n",
    "# if an element is larger then push it to the back of array1 and update pointer"
   ]
  },
  {
   "cell_type": "code",
   "execution_count": 13,
   "id": "56c0190c-4438-4518-bdee-a6f5ec4e739a",
   "metadata": {
    "tags": []
   },
   "outputs": [],
   "source": [
    "def merge_sort(nums1, m, nums2, n):\n",
    "    x = m + n - 1\n",
    "    m = m - 1\n",
    "    n = n - 1\n",
    "    while n >= 0:\n",
    "        if m >= 0 and nums1[m] > nums2[n]:\n",
    "            nums1[x] = nums1[m]\n",
    "            m -= 1\n",
    "        else:\n",
    "            nums1[x] = nums2[n]\n",
    "            n -= 1\n",
    "        x -= 1\n",
    "    return nums1"
   ]
  },
  {
   "cell_type": "code",
   "execution_count": 11,
   "id": "9c954376-c415-41f1-b01e-c091188d620c",
   "metadata": {
    "tags": []
   },
   "outputs": [
    {
     "data": {
      "text/plain": [
       "[1, 2, 2, 3, 5, 6]"
      ]
     },
     "execution_count": 11,
     "metadata": {},
     "output_type": "execute_result"
    }
   ],
   "source": [
    "nums1 = [1,2,3,0,0,0]\n",
    "m = 3\n",
    "nums2 = [2,5,6]\n",
    "n = 3\n",
    "merge_sort(nums1, m, nums2, n)"
   ]
  },
  {
   "cell_type": "code",
   "execution_count": 12,
   "id": "0adf1247-122e-4cc5-9891-b1b9b474e49d",
   "metadata": {
    "tags": []
   },
   "outputs": [
    {
     "data": {
      "text/plain": [
       "[1, 2]"
      ]
     },
     "execution_count": 12,
     "metadata": {},
     "output_type": "execute_result"
    }
   ],
   "source": [
    "nums1 = [2,0]\n",
    "m = 1\n",
    "nums2 = [1]\n",
    "n = 1\n",
    "merge_sort(nums1, m, nums2, n)"
   ]
  },
  {
   "cell_type": "markdown",
   "id": "30fa8339-c247-42da-bf13-4ea32fcd158d",
   "metadata": {},
   "source": [
    "### 27. Remove Element"
   ]
  },
  {
   "cell_type": "code",
   "execution_count": 33,
   "id": "b4022612-b35f-4d48-8b68-ac111cd7d136",
   "metadata": {
    "tags": []
   },
   "outputs": [],
   "source": [
    "# Notes: Use 2 pointers: 'c' to chekc if value is same as val and 's' to swap value arr[c] with arr[s] if arr[c] \n",
    "# is same as val"
   ]
  },
  {
   "cell_type": "code",
   "execution_count": 34,
   "id": "3b9cb87a-fd16-4f91-bbe2-279a4964c2bc",
   "metadata": {
    "tags": []
   },
   "outputs": [],
   "source": [
    "def remove_elements(nums, val):\n",
    "    c = len(nums) - 1\n",
    "    s = len(nums) - 1\n",
    "    while c >= 0:\n",
    "        if nums[c] == val:\n",
    "            nums[s], nums[c] = nums[c], nums[s]\n",
    "            s -= 1\n",
    "        c -= 1\n",
    "    return s+1, nums"
   ]
  },
  {
   "cell_type": "code",
   "execution_count": 35,
   "id": "69d25c82-bfa3-4656-b43a-c18df5d4ebe4",
   "metadata": {
    "tags": []
   },
   "outputs": [
    {
     "data": {
      "text/plain": [
       "(2, [2, 2, 3, 3])"
      ]
     },
     "execution_count": 35,
     "metadata": {},
     "output_type": "execute_result"
    }
   ],
   "source": [
    "nums = [3,2,2,3]\n",
    "val = 3\n",
    "remove_elements(nums, val)"
   ]
  },
  {
   "cell_type": "code",
   "execution_count": 36,
   "id": "6831c6cd-80ec-47c0-b351-9cf1c9ca8903",
   "metadata": {
    "tags": []
   },
   "outputs": [
    {
     "data": {
      "text/plain": [
       "(5, [0, 1, 0, 4, 3, 2, 2, 2])"
      ]
     },
     "execution_count": 36,
     "metadata": {},
     "output_type": "execute_result"
    }
   ],
   "source": [
    "nums = [0,1,2,2,3,0,4,2]\n",
    "val = 2\n",
    "remove_elements(nums, val)"
   ]
  }
 ],
 "metadata": {
  "kernelspec": {
   "display_name": "Python 3 (ipykernel)",
   "language": "python",
   "name": "python3"
  },
  "language_info": {
   "codemirror_mode": {
    "name": "ipython",
    "version": 3
   },
   "file_extension": ".py",
   "mimetype": "text/x-python",
   "name": "python",
   "nbconvert_exporter": "python",
   "pygments_lexer": "ipython3",
   "version": "3.10.10"
  }
 },
 "nbformat": 4,
 "nbformat_minor": 5
}
