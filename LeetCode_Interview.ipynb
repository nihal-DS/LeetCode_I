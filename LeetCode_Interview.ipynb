{
 "cells": [
  {
   "cell_type": "markdown",
   "id": "4dd053cc-bce6-458b-adb7-2ee68550e021",
   "metadata": {},
   "source": [
    "# Top Interview 150"
   ]
  },
  {
   "cell_type": "markdown",
   "id": "29a3cff0-e83d-4845-911b-8712e4c88b42",
   "metadata": {},
   "source": [
    "## 1. Array / String"
   ]
  },
  {
   "cell_type": "markdown",
   "id": "82e8b078-1775-43cb-8668-ae9c861c1d99",
   "metadata": {},
   "source": [
    "### 88. Merge Sorted Array"
   ]
  },
  {
   "cell_type": "code",
   "execution_count": 14,
   "id": "3c5cfbf7-92aa-4db2-95a4-9dc366827fe9",
   "metadata": {
    "tags": []
   },
   "outputs": [],
   "source": [
    "# Notes: Solve in the reverse order, use 3 pointers m = for array1, n = for array2 and x to replace elements in each loop, if an element is larger then push it to the back of array1\n",
    "# and update pointer"
   ]
  },
  {
   "cell_type": "code",
   "execution_count": 13,
   "id": "56c0190c-4438-4518-bdee-a6f5ec4e739a",
   "metadata": {
    "tags": []
   },
   "outputs": [],
   "source": [
    "def merge_sort(nums1, m, nums2, n):\n",
    "    x = m + n - 1\n",
    "    m = m - 1\n",
    "    n = n - 1\n",
    "    while n >= 0:\n",
    "        if m >= 0 and nums1[m] > nums2[n]:\n",
    "            nums1[x] = nums1[m]\n",
    "            m -= 1\n",
    "        else:\n",
    "            nums1[x] = nums2[n]\n",
    "            n -= 1\n",
    "        x -= 1\n",
    "    return nums1"
   ]
  },
  {
   "cell_type": "code",
   "execution_count": 11,
   "id": "9c954376-c415-41f1-b01e-c091188d620c",
   "metadata": {
    "tags": []
   },
   "outputs": [
    {
     "data": {
      "text/plain": [
       "[1, 2, 2, 3, 5, 6]"
      ]
     },
     "execution_count": 11,
     "metadata": {},
     "output_type": "execute_result"
    }
   ],
   "source": [
    "nums1 = [1,2,3,0,0,0]\n",
    "m = 3\n",
    "nums2 = [2,5,6]\n",
    "n = 3\n",
    "merge_sort(nums1, m, nums2, n)"
   ]
  },
  {
   "cell_type": "code",
   "execution_count": 12,
   "id": "0adf1247-122e-4cc5-9891-b1b9b474e49d",
   "metadata": {
    "tags": []
   },
   "outputs": [
    {
     "data": {
      "text/plain": [
       "[1, 2]"
      ]
     },
     "execution_count": 12,
     "metadata": {},
     "output_type": "execute_result"
    }
   ],
   "source": [
    "nums1 = [2,0]\n",
    "m = 1\n",
    "nums2 = [1]\n",
    "n = 1\n",
    "merge_sort(nums1, m, nums2, n)"
   ]
  },
  {
   "cell_type": "code",
   "execution_count": null,
   "id": "2ba7ad9e-1256-4d7e-94e8-a22e89fd912e",
   "metadata": {},
   "outputs": [],
   "source": []
  }
 ],
 "metadata": {
  "kernelspec": {
   "display_name": "Python 3 (ipykernel)",
   "language": "python",
   "name": "python3"
  },
  "language_info": {
   "codemirror_mode": {
    "name": "ipython",
    "version": 3
   },
   "file_extension": ".py",
   "mimetype": "text/x-python",
   "name": "python",
   "nbconvert_exporter": "python",
   "pygments_lexer": "ipython3",
   "version": "3.10.10"
  }
 },
 "nbformat": 4,
 "nbformat_minor": 5
}
